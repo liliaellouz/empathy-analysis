{
 "cells": [
  {
   "cell_type": "code",
   "execution_count": 1,
   "metadata": {
    "Collapsed": "false"
   },
   "outputs": [],
   "source": [
    "import os\n",
    "import matplotlib.pyplot as plt\n",
    "import numpy as np\n",
    "import pandas as pd\n",
    "import scipy.stats"
   ]
  },
  {
   "cell_type": "markdown",
   "metadata": {
    "Collapsed": "false"
   },
   "source": [
    "## Load Data"
   ]
  },
  {
   "cell_type": "code",
   "execution_count": 2,
   "metadata": {
    "Collapsed": "false"
   },
   "outputs": [
    {
     "data": {
      "text/html": [
       "<div>\n",
       "<style scoped>\n",
       "    .dataframe tbody tr th:only-of-type {\n",
       "        vertical-align: middle;\n",
       "    }\n",
       "\n",
       "    .dataframe tbody tr th {\n",
       "        vertical-align: top;\n",
       "    }\n",
       "\n",
       "    .dataframe thead th {\n",
       "        text-align: right;\n",
       "    }\n",
       "</style>\n",
       "<table border=\"1\" class=\"dataframe\">\n",
       "  <thead>\n",
       "    <tr style=\"text-align: right;\">\n",
       "      <th></th>\n",
       "      <th>Unnamed: 0</th>\n",
       "      <th>timestamp</th>\n",
       "      <th>gender</th>\n",
       "      <th>age</th>\n",
       "      <th>language</th>\n",
       "      <th>EQ_score_raw</th>\n",
       "      <th>SQ_score_raw</th>\n",
       "      <th>EQ_score_std</th>\n",
       "      <th>SQ_score_std</th>\n",
       "      <th>D_score</th>\n",
       "      <th>...</th>\n",
       "      <th>covid_6</th>\n",
       "      <th>covid_7</th>\n",
       "      <th>covid_8</th>\n",
       "      <th>covid_9</th>\n",
       "      <th>covid_10</th>\n",
       "      <th>covid_11</th>\n",
       "      <th>covid_12</th>\n",
       "      <th>covid_13</th>\n",
       "      <th>covid_14</th>\n",
       "      <th>covid_15</th>\n",
       "    </tr>\n",
       "  </thead>\n",
       "  <tbody>\n",
       "    <tr>\n",
       "      <th>0</th>\n",
       "      <td>0</td>\n",
       "      <td>2020/05/03 6:49:52 am GMT+8</td>\n",
       "      <td>M</td>\n",
       "      <td>23</td>\n",
       "      <td>English</td>\n",
       "      <td>7.0</td>\n",
       "      <td>4.0</td>\n",
       "      <td>0.106993</td>\n",
       "      <td>-0.162937</td>\n",
       "      <td>0.26993</td>\n",
       "      <td>...</td>\n",
       "      <td>2.0</td>\n",
       "      <td>5.0</td>\n",
       "      <td>Yes</td>\n",
       "      <td>Yes</td>\n",
       "      <td>Yes</td>\n",
       "      <td>No</td>\n",
       "      <td>Yes</td>\n",
       "      <td>No</td>\n",
       "      <td>2.0</td>\n",
       "      <td>3.0</td>\n",
       "    </tr>\n",
       "    <tr>\n",
       "      <th>1</th>\n",
       "      <td>1</td>\n",
       "      <td>2020/05/03 6:53:20 am GMT+8</td>\n",
       "      <td>M</td>\n",
       "      <td>22</td>\n",
       "      <td>English</td>\n",
       "      <td>5.0</td>\n",
       "      <td>4.0</td>\n",
       "      <td>0.006993</td>\n",
       "      <td>-0.162937</td>\n",
       "      <td>0.16993</td>\n",
       "      <td>...</td>\n",
       "      <td>1.0</td>\n",
       "      <td>4.0</td>\n",
       "      <td>Yes</td>\n",
       "      <td>Yes</td>\n",
       "      <td>Yes</td>\n",
       "      <td>No</td>\n",
       "      <td>Yes</td>\n",
       "      <td>Yes</td>\n",
       "      <td>2.0</td>\n",
       "      <td>3.0</td>\n",
       "    </tr>\n",
       "    <tr>\n",
       "      <th>2</th>\n",
       "      <td>2</td>\n",
       "      <td>2020/05/03 3:53:12 pm GMT+8</td>\n",
       "      <td>F</td>\n",
       "      <td>22</td>\n",
       "      <td>English</td>\n",
       "      <td>7.0</td>\n",
       "      <td>9.0</td>\n",
       "      <td>0.106993</td>\n",
       "      <td>0.087063</td>\n",
       "      <td>0.01993</td>\n",
       "      <td>...</td>\n",
       "      <td>2.0</td>\n",
       "      <td>5.0</td>\n",
       "      <td>Yes</td>\n",
       "      <td>Yes</td>\n",
       "      <td>Yes</td>\n",
       "      <td>No</td>\n",
       "      <td>Yes</td>\n",
       "      <td>No</td>\n",
       "      <td>1.0</td>\n",
       "      <td>1.0</td>\n",
       "    </tr>\n",
       "    <tr>\n",
       "      <th>3</th>\n",
       "      <td>3</td>\n",
       "      <td>2020/05/03 7:35:55 pm GMT+8</td>\n",
       "      <td>M</td>\n",
       "      <td>28</td>\n",
       "      <td>English</td>\n",
       "      <td>4.0</td>\n",
       "      <td>8.0</td>\n",
       "      <td>-0.043007</td>\n",
       "      <td>0.037063</td>\n",
       "      <td>-0.08007</td>\n",
       "      <td>...</td>\n",
       "      <td>1.0</td>\n",
       "      <td>5.0</td>\n",
       "      <td>Yes</td>\n",
       "      <td>Yes</td>\n",
       "      <td>Yes</td>\n",
       "      <td>Yes</td>\n",
       "      <td>Yes</td>\n",
       "      <td>No</td>\n",
       "      <td>2.0</td>\n",
       "      <td>3.0</td>\n",
       "    </tr>\n",
       "    <tr>\n",
       "      <th>4</th>\n",
       "      <td>4</td>\n",
       "      <td>2020/05/03 8:38:20 pm GMT+8</td>\n",
       "      <td>M</td>\n",
       "      <td>32</td>\n",
       "      <td>English</td>\n",
       "      <td>5.0</td>\n",
       "      <td>13.0</td>\n",
       "      <td>0.006993</td>\n",
       "      <td>0.287063</td>\n",
       "      <td>-0.28007</td>\n",
       "      <td>...</td>\n",
       "      <td>1.0</td>\n",
       "      <td>5.0</td>\n",
       "      <td>No</td>\n",
       "      <td>No</td>\n",
       "      <td>No</td>\n",
       "      <td>No</td>\n",
       "      <td>Yes</td>\n",
       "      <td>No</td>\n",
       "      <td>1.0</td>\n",
       "      <td>3.0</td>\n",
       "    </tr>\n",
       "  </tbody>\n",
       "</table>\n",
       "<p>5 rows × 30 columns</p>\n",
       "</div>"
      ],
      "text/plain": [
       "   Unnamed: 0                    timestamp gender  age language  EQ_score_raw  \\\n",
       "0           0  2020/05/03 6:49:52 am GMT+8      M   23  English           7.0   \n",
       "1           1  2020/05/03 6:53:20 am GMT+8      M   22  English           5.0   \n",
       "2           2  2020/05/03 3:53:12 pm GMT+8      F   22  English           7.0   \n",
       "3           3  2020/05/03 7:35:55 pm GMT+8      M   28  English           4.0   \n",
       "4           4  2020/05/03 8:38:20 pm GMT+8      M   32  English           5.0   \n",
       "\n",
       "   SQ_score_raw  EQ_score_std  SQ_score_std  D_score  ...  covid_6  covid_7  \\\n",
       "0           4.0      0.106993     -0.162937  0.26993  ...      2.0      5.0   \n",
       "1           4.0      0.006993     -0.162937  0.16993  ...      1.0      4.0   \n",
       "2           9.0      0.106993      0.087063  0.01993  ...      2.0      5.0   \n",
       "3           8.0     -0.043007      0.037063 -0.08007  ...      1.0      5.0   \n",
       "4          13.0      0.006993      0.287063 -0.28007  ...      1.0      5.0   \n",
       "\n",
       "   covid_8  covid_9  covid_10  covid_11  covid_12  covid_13  covid_14 covid_15  \n",
       "0      Yes      Yes       Yes        No       Yes        No       2.0      3.0  \n",
       "1      Yes      Yes       Yes        No       Yes       Yes       2.0      3.0  \n",
       "2      Yes      Yes       Yes        No       Yes        No       1.0      1.0  \n",
       "3      Yes      Yes       Yes       Yes       Yes        No       2.0      3.0  \n",
       "4       No       No        No        No       Yes        No       1.0      3.0  \n",
       "\n",
       "[5 rows x 30 columns]"
      ]
     },
     "execution_count": 2,
     "metadata": {},
     "output_type": "execute_result"
    }
   ],
   "source": [
    "# load the original data\n",
    "survey = pd.read_csv('data/preprocessed.csv')\n",
    "survey.head()"
   ]
  },
  {
   "cell_type": "markdown",
   "metadata": {},
   "source": [
    "## Q1. Is there a difference between attributing pain in the egocentric versus the allocentric conditions?"
   ]
  },
  {
   "cell_type": "code",
   "execution_count": 65,
   "metadata": {},
   "outputs": [
    {
     "name": "stdout",
     "output_type": "stream",
     "text": [
      "Average EA score: -1.0650533512464029e-16\n",
      "STD EA score: 1.2596358776307823\n"
     ]
    },
    {
     "data": {
      "text/plain": [
       "Text(0.5, 1.0, 'EA Score Histogram')"
      ]
     },
     "execution_count": 65,
     "metadata": {},
     "output_type": "execute_result"
    },
    {
     "data": {
      "image/png": "[encoded data removed]",
      "text/plain": [
       "<Figure size 432x288 with 1 Axes>"
      ]
     },
     "metadata": {
      "needs_background": "light"
     },
     "output_type": "display_data"
    }
   ],
   "source": [
    "ea = survey['EA_score']\n",
    "plt.hist(ea)\n",
    "print(\"Average EA score: {0}\".format(np.mean(ea.to_numpy())))\n",
    "print(\"STD EA score: {0}\".format(np.std(ea.to_numpy())))\n",
    "plt.title('EA Score Histogram')"
   ]
  },
  {
   "cell_type": "code",
   "execution_count": 69,
   "metadata": {},
   "outputs": [
    {
     "name": "stdout",
     "output_type": "stream",
     "text": [
      "Average E score: 5.5564775160599575\n",
      "Average A score: 2.262449186217868\n"
     ]
    },
    {
     "data": {
      "text/plain": [
       "Text(0.5, 1.0, 'Egocentric and Allocentric Score Distributions')"
      ]
     },
     "execution_count": 69,
     "metadata": {},
     "output_type": "execute_result"
    },
    {
     "data": {
      "image/png": "[encoded data removed]",
      "text/plain": [
       "<Figure size 432x288 with 1 Axes>"
      ]
     },
     "metadata": {
      "needs_background": "light"
     },
     "output_type": "display_data"
    }
   ],
   "source": [
    "e_raw = survey['E_score_raw']\n",
    "a_raw = survey['A_score_raw']\n",
    "plt.hist(e_raw, color='blue', alpha=0.5, label='E score')\n",
    "plt.hist(a_raw, color='red', alpha=0.5, label='A score')\n",
    "print(\"Average E score: {0}\".format(np.mean(e_raw.to_numpy())))\n",
    "print(\"Average A score: {0}\".format(np.std(a_raw.to_numpy())))\n",
    "plt.legend()\n",
    "plt.title('Egocentric and Allocentric Score Distributions')"
   ]
  },
  {
   "cell_type": "code",
   "execution_count": 71,
   "metadata": {},
   "outputs": [
    {
     "name": "stdout",
     "output_type": "stream",
     "text": [
      "1.547071338592345e-79\n"
     ]
    }
   ],
   "source": [
    "t, pval = scipy.stats.ttest_rel(e_raw, a_raw)\n",
    "print(pval)"
   ]
  },
  {
   "cell_type": "markdown",
   "metadata": {},
   "source": [
    "Conclusion: While the average EA score is about zero, the values vary from -5 to almost 4, which are large variations between egocentric and allocentric conditions. When we plot the egocentric and allocentric scores, we see that the A scores tend to be lower than the E scores. This difference is siginificant when we perform a paired 2-sample t-test."
   ]
  },
  {
   "cell_type": "markdown",
   "metadata": {},
   "source": [
    "## Q2. Does this difference vary by age, gender and language?"
   ]
  },
  {
   "cell_type": "markdown",
   "metadata": {},
   "source": [
    "### Gender"
   ]
  },
  {
   "cell_type": "code",
   "execution_count": 72,
   "metadata": {
    "Collapsed": "false"
   },
   "outputs": [
    {
     "data": {
      "text/plain": [
       "(array([  3.,   6.,  17.,  32., 112., 155., 115.,  71.,  23.,   8.]),\n",
       " array([-4.86615175, -4.01044392, -3.1547361 , -2.29902827, -1.44332045,\n",
       "        -0.58761263,  0.2680952 ,  1.12380302,  1.97951085,  2.83521867,\n",
       "         3.69092649]),\n",
       " <a list of 10 Patch objects>)"
      ]
     },
     "execution_count": 72,
     "metadata": {},
     "output_type": "execute_result"
    },
    {
     "data": {
      "image/png": "[encoded data removed]",
      "text/plain": [
       "<Figure size 432x288 with 1 Axes>"
      ]
     },
     "metadata": {
      "needs_background": "light"
     },
     "output_type": "display_data"
    }
   ],
   "source": [
    "men_ea  = survey[survey['gender']=='M']['EA_score']\n",
    "women_ea  = survey[survey['gender']=='F']['EA_score']\n",
    "plt.hist(men_ea,color='blue',alpha=0.8)\n",
    "plt.hist(women_ea,color='pink',alpha=0.8)"
   ]
  },
  {
   "cell_type": "code",
   "execution_count": 23,
   "metadata": {
    "Collapsed": "false"
   },
   "outputs": [
    {
     "name": "stdout",
     "output_type": "stream",
     "text": [
      "0.8191074848014204\n"
     ]
    }
   ],
   "source": [
    "t, pval = scipy.stats.ttest_ind(men_ea, women_ea)\n",
    "print(pval)"
   ]
  },
  {
   "cell_type": "markdown",
   "metadata": {
    "Collapsed": "false"
   },
   "source": [
    "Conclusion: No significant difference between EA score of men and women"
   ]
  },
  {
   "cell_type": "markdown",
   "metadata": {},
   "source": [
    "### Language"
   ]
  },
  {
   "cell_type": "code",
   "execution_count": 24,
   "metadata": {
    "Collapsed": "false"
   },
   "outputs": [],
   "source": [
    "en_ea  = survey[survey['language']=='English']['EA_score']\n",
    "fr_ea  = survey[survey['language']=='French']['EA_score']\n",
    "tu_ea  = survey[survey['language']=='Turkish']['EA_score']\n",
    "ch_ea  = survey[survey['language']=='Chinese']['EA_score']"
   ]
  },
  {
   "cell_type": "code",
   "execution_count": 33,
   "metadata": {
    "Collapsed": "false"
   },
   "outputs": [
    {
     "data": {
      "text/plain": [
       "<matplotlib.lines.Line2D at 0x297249b55c0>"
      ]
     },
     "execution_count": 33,
     "metadata": {},
     "output_type": "execute_result"
    },
    {
     "data": {
      "image/png": "[encoded data removed]",
      "text/plain": [
       "<Figure size 720x216 with 4 Axes>"
      ]
     },
     "metadata": {
      "needs_background": "light"
     },
     "output_type": "display_data"
    }
   ],
   "source": [
    "fig, axs = plt.subplots(1,4, figsize=(10,3))\n",
    "axs[0].hist(en_ea)\n",
    "axs[0].axvline(np.mean(en_ea),0,40, color='r')\n",
    "axs[0].set_title('English')\n",
    "axs[1].hist(fr_ea)\n",
    "axs[1].axvline(np.mean(fr_ea),0,80, color='r')\n",
    "axs[1].set_title('French')\n",
    "axs[2].hist(tu_ea)\n",
    "axs[2].set_title('Turkish')\n",
    "axs[2].axvline(np.mean(tu_ea),0,70, color='r')\n",
    "axs[3].hist(ch_ea)\n",
    "axs[3].set_title('Chinese')\n",
    "axs[3].axvline(np.mean(ch_ea),0,70, color='r')"
   ]
  },
  {
   "cell_type": "code",
   "execution_count": 34,
   "metadata": {
    "Collapsed": "false"
   },
   "outputs": [
    {
     "name": "stdout",
     "output_type": "stream",
     "text": [
      "English mean: 0.12253616931322582\n",
      "French mean: 0.1556019230981317\n",
      "Turkish mean: -0.4213108892458712\n",
      "Chinese mean: 0.216010950789236\n"
     ]
    }
   ],
   "source": [
    "print(\"English mean: {0}\".format(np.mean(en_ea)))\n",
    "print(\"French mean: {0}\".format(np.mean(fr_ea)))\n",
    "print(\"Turkish mean: {0}\".format(np.mean(tu_ea)))\n",
    "print(\"Chinese mean: {0}\".format(np.mean(ch_ea)))"
   ]
  },
  {
   "cell_type": "code",
   "execution_count": 35,
   "metadata": {
    "Collapsed": "false"
   },
   "outputs": [
    {
     "name": "stdout",
     "output_type": "stream",
     "text": [
      "6.750039696300751e-05\n"
     ]
    }
   ],
   "source": [
    "t, pval = scipy.stats.ttest_ind(en_ea, tu_ea)\n",
    "print(pval)"
   ]
  },
  {
   "cell_type": "markdown",
   "metadata": {
    "Collapsed": "false"
   },
   "source": [
    "Conclusion: There is a significant difference in the EA scores of English and Turkish speakers, with Turkish people being more allocentric than egocentric"
   ]
  },
  {
   "cell_type": "code",
   "execution_count": 36,
   "metadata": {
    "Collapsed": "false"
   },
   "outputs": [
    {
     "name": "stdout",
     "output_type": "stream",
     "text": [
      "9.704698722686242e-08\n",
      "8.89771397621511e-08\n"
     ]
    }
   ],
   "source": [
    "t, pval = scipy.stats.ttest_ind(fr_ea, tu_ea)\n",
    "print(pval)\n",
    "t, pval = scipy.stats.ttest_ind(ch_ea, tu_ea)\n",
    "print(pval)"
   ]
  },
  {
   "cell_type": "markdown",
   "metadata": {
    "Collapsed": "false"
   },
   "source": [
    "Conclusion: Turkish people are significantly more allocentric than English, French, and Chinese people"
   ]
  },
  {
   "cell_type": "markdown",
   "metadata": {},
   "source": [
    "### Age"
   ]
  },
  {
   "cell_type": "code",
   "execution_count": 37,
   "metadata": {
    "Collapsed": "false"
   },
   "outputs": [
    {
     "name": "stdout",
     "output_type": "stream",
     "text": [
      "Old mean: -0.0904100878279177\n",
      "Young mean: 0.11605206872776688\n",
      "0.0129187507810094\n"
     ]
    }
   ],
   "source": [
    "oldness_cutoff = 35\n",
    "young_ea  = survey[survey['age']<oldness_cutoff]['EA_score']\n",
    "old_ea  = survey[survey['age']>=oldness_cutoff]['EA_score']\n",
    "print(\"Old mean: {0}\".format(np.mean(old_ea)))\n",
    "print(\"Young mean: {0}\".format(np.mean(young_ea)))\n",
    "t, pval = scipy.stats.ttest_ind(young_ea, old_ea)\n",
    "print(pval)"
   ]
  },
  {
   "cell_type": "markdown",
   "metadata": {},
   "source": [
    "Conclusion: People over 35 are more allocentric than those under 35"
   ]
  },
  {
   "cell_type": "markdown",
   "metadata": {
    "Collapsed": "false"
   },
   "source": [
    "## Q3. Is their a relationship between D score and scores on the scores on  the egocentric and allocentric conditions.  \n",
    "EA Score = Egocentric score - allocentric score"
   ]
  },
  {
   "cell_type": "code",
   "execution_count": 83,
   "metadata": {
    "Collapsed": "false"
   },
   "outputs": [
    {
     "name": "stdout",
     "output_type": "stream",
     "text": [
      "(934,)\n",
      "(934,)\n"
     ]
    },
    {
     "data": {
      "text/plain": [
       "Text(0.5, 1.0, 'EA Score vs D-Score Correlation')"
      ]
     },
     "execution_count": 83,
     "metadata": {},
     "output_type": "execute_result"
    },
    {
     "data": {
      "image/png": "[encoded data removed]",
      "text/plain": [
       "<Figure size 432x288 with 1 Axes>"
      ]
     },
     "metadata": {
      "needs_background": "light"
     },
     "output_type": "display_data"
    }
   ],
   "source": [
    "d_score = survey['D_score'].to_numpy()\n",
    "print(d_score.shape)\n",
    "ea_score = survey['EA_score'].to_numpy()\n",
    "print(ea_score.shape)\n",
    "plt.figure()\n",
    "plt.scatter(d_score,ea_score)\n",
    "plt.xlabel(\"D-Score\")\n",
    "plt.ylabel(\"EA Score\")\n",
    "result = scipy.stats.linregress(d_score, ea_score)\n",
    "x = np.linspace(-0.4,0.6,300)\n",
    "y = result.slope*x + result.intercept\n",
    "plt.plot(x,y,color='red')\n",
    "plt.title(\"EA Score vs D-Score Correlation\")"
   ]
  },
  {
   "cell_type": "code",
   "execution_count": 84,
   "metadata": {
    "Collapsed": "false"
   },
   "outputs": [
    {
     "name": "stdout",
     "output_type": "stream",
     "text": [
      "0.0013061881070071974\n",
      "0.9682003448332829\n"
     ]
    }
   ],
   "source": [
    "print(result.rvalue)\n",
    "print(result.pvalue)"
   ]
  },
  {
   "cell_type": "markdown",
   "metadata": {
    "Collapsed": "false"
   },
   "source": [
    "Conclusion: No correlation between D-score and EA score"
   ]
  },
  {
   "cell_type": "code",
   "execution_count": 87,
   "metadata": {},
   "outputs": [
    {
     "name": "stdout",
     "output_type": "stream",
     "text": [
      "(934,)\n",
      "(934,)\n"
     ]
    },
    {
     "data": {
      "text/plain": [
       "Text(0.5, 1.0, 'Raw E Score vs D-Score Correlation')"
      ]
     },
     "execution_count": 87,
     "metadata": {},
     "output_type": "execute_result"
    },
    {
     "data": {
      "image/png": "[encoded data removed]",
      "text/plain": [
       "<Figure size 432x288 with 1 Axes>"
      ]
     },
     "metadata": {
      "needs_background": "light"
     },
     "output_type": "display_data"
    }
   ],
   "source": [
    "d_score = survey['D_score'].to_numpy()\n",
    "print(d_score.shape)\n",
    "e_score = survey['E_score_raw'].to_numpy()\n",
    "print(e_score.shape)\n",
    "plt.figure()\n",
    "plt.scatter(d_score,e_score)\n",
    "plt.xlabel(\"D-Score\")\n",
    "plt.ylabel(\"Raw E Score\")\n",
    "result = scipy.stats.linregress(d_score, e_score)\n",
    "x = np.linspace(-0.4,0.6,300)\n",
    "y = result.slope*x + result.intercept\n",
    "plt.plot(x,y,color='red')\n",
    "plt.title(\"Raw E Score vs D-Score Correlation\")"
   ]
  },
  {
   "cell_type": "code",
   "execution_count": 88,
   "metadata": {},
   "outputs": [
    {
     "name": "stdout",
     "output_type": "stream",
     "text": [
      "-0.07139976109399851\n",
      "0.029113907526613584\n"
     ]
    }
   ],
   "source": [
    "print(result.rvalue)\n",
    "print(result.pvalue)"
   ]
  },
  {
   "cell_type": "markdown",
   "metadata": {},
   "source": [
    "Conclusion: Siginificant negative correlation between D-score and raw E score."
   ]
  },
  {
   "cell_type": "markdown",
   "metadata": {
    "Collapsed": "false"
   },
   "source": [
    "## Check correlation between age and EA score / D-score"
   ]
  },
  {
   "cell_type": "code",
   "execution_count": 93,
   "metadata": {
    "Collapsed": "false"
   },
   "outputs": [
    {
     "data": {
      "text/plain": [
       "[<matplotlib.lines.Line2D at 0x29726b582b0>]"
      ]
     },
     "execution_count": 93,
     "metadata": {},
     "output_type": "execute_result"
    },
    {
     "data": {
      "image/png": "[encoded data removed]",
      "text/plain": [
       "<Figure size 432x288 with 1 Axes>"
      ]
     },
     "metadata": {
      "needs_background": "light"
     },
     "output_type": "display_data"
    }
   ],
   "source": [
    "ages = survey['age'].to_numpy()\n",
    "plt.figure()\n",
    "plt.scatter(ages,ea_score)\n",
    "plt.xlabel(\"Age\")\n",
    "plt.ylabel(\"EA Score\")\n",
    "result = scipy.stats.linregress(ages, ea_score)\n",
    "x = np.linspace(10,80,300)\n",
    "y = result.slope*x + result.intercept\n",
    "plt.plot(x,y,color='red')"
   ]
  },
  {
   "cell_type": "code",
   "execution_count": 94,
   "metadata": {
    "Collapsed": "false"
   },
   "outputs": [
    {
     "name": "stdout",
     "output_type": "stream",
     "text": [
      "-0.06398527064015833\n",
      "0.050598999206870374\n"
     ]
    }
   ],
   "source": [
    "print(result.rvalue)\n",
    "print(result.pvalue)"
   ]
  },
  {
   "cell_type": "markdown",
   "metadata": {
    "Collapsed": "false"
   },
   "source": [
    "Conclusion: No siginificant negative correlation between age and EA score"
   ]
  },
  {
   "cell_type": "code",
   "execution_count": 97,
   "metadata": {},
   "outputs": [
    {
     "data": {
      "text/plain": [
       "[<matplotlib.lines.Line2D at 0x29726bf67f0>]"
      ]
     },
     "execution_count": 97,
     "metadata": {},
     "output_type": "execute_result"
    },
    {
     "data": {
      "image/png": "[encoded data removed]",
      "text/plain": [
       "<Figure size 432x288 with 1 Axes>"
      ]
     },
     "metadata": {
      "needs_background": "light"
     },
     "output_type": "display_data"
    }
   ],
   "source": [
    "ages = survey['age'].to_numpy()\n",
    "plt.figure()\n",
    "plt.scatter(ages,e_score)\n",
    "plt.xlabel(\"Age\")\n",
    "plt.ylabel(\"E Score\")\n",
    "result = scipy.stats.linregress(ages, e_score)\n",
    "x = np.linspace(10,80,300)\n",
    "y = result.slope*x + result.intercept\n",
    "plt.plot(x,y,color='red')"
   ]
  },
  {
   "cell_type": "code",
   "execution_count": 96,
   "metadata": {},
   "outputs": [
    {
     "name": "stdout",
     "output_type": "stream",
     "text": [
      "-0.15726995565589194\n",
      "1.3650351294342597e-06\n"
     ]
    }
   ],
   "source": [
    "print(result.rvalue)\n",
    "print(result.pvalue)"
   ]
  },
  {
   "cell_type": "markdown",
   "metadata": {},
   "source": [
    "Conclusion: Significant negative correlation between age and E score"
   ]
  },
  {
   "cell_type": "code",
   "execution_count": 99,
   "metadata": {},
   "outputs": [
    {
     "data": {
      "text/plain": [
       "[<matplotlib.lines.Line2D at 0x29726c9d668>]"
      ]
     },
     "execution_count": 99,
     "metadata": {},
     "output_type": "execute_result"
    },
    {
     "data": {
      "image/png": "[encoded data removed]",
      "text/plain": [
       "<Figure size 432x288 with 1 Axes>"
      ]
     },
     "metadata": {
      "needs_background": "light"
     },
     "output_type": "display_data"
    }
   ],
   "source": [
    "a_score = survey['A_score_raw'].to_numpy()\n",
    "ages = survey['age'].to_numpy()\n",
    "plt.figure()\n",
    "plt.scatter(ages,a_score)\n",
    "plt.xlabel(\"Age\")\n",
    "plt.ylabel(\"A Score\")\n",
    "result = scipy.stats.linregress(ages, a_score)\n",
    "x = np.linspace(10,80,300)\n",
    "y = result.slope*x + result.intercept\n",
    "plt.plot(x,y,color='red')"
   ]
  },
  {
   "cell_type": "code",
   "execution_count": 100,
   "metadata": {},
   "outputs": [
    {
     "name": "stdout",
     "output_type": "stream",
     "text": [
      "-0.07662863168269027\n",
      "0.019171071678866974\n"
     ]
    }
   ],
   "source": [
    "print(result.rvalue)\n",
    "print(result.pvalue)"
   ]
  },
  {
   "cell_type": "markdown",
   "metadata": {},
   "source": [
    "Conclusion: A score also significantly decreases with age."
   ]
  },
  {
   "cell_type": "code",
   "execution_count": 101,
   "metadata": {
    "Collapsed": "false"
   },
   "outputs": [
    {
     "data": {
      "text/plain": [
       "[<matplotlib.lines.Line2D at 0x29726c94320>]"
      ]
     },
     "execution_count": 101,
     "metadata": {},
     "output_type": "execute_result"
    },
    {
     "data": {
      "image/png": "[encoded data removed]",
      "text/plain": [
       "<Figure size 432x288 with 1 Axes>"
      ]
     },
     "metadata": {
      "needs_background": "light"
     },
     "output_type": "display_data"
    }
   ],
   "source": [
    "plt.figure()\n",
    "plt.scatter(ages,d_score)\n",
    "plt.xlabel(\"Age\")\n",
    "plt.ylabel(\"D-Score\")\n",
    "result = scipy.stats.linregress(ages, d_score)\n",
    "x = np.linspace(10,80,300)\n",
    "y = result.slope*x + result.intercept\n",
    "plt.plot(x,y,color='red')"
   ]
  },
  {
   "cell_type": "code",
   "execution_count": 102,
   "metadata": {
    "Collapsed": "false"
   },
   "outputs": [
    {
     "name": "stdout",
     "output_type": "stream",
     "text": [
      "0.07484551337530394\n",
      "0.02216486763378601\n"
     ]
    }
   ],
   "source": [
    "print(result.rvalue)\n",
    "print(result.pvalue)"
   ]
  },
  {
   "cell_type": "markdown",
   "metadata": {
    "Collapsed": "false"
   },
   "source": [
    "Conclusion: Significant positive correlation between age and D-score"
   ]
  },
  {
   "cell_type": "markdown",
   "metadata": {
    "Collapsed": "false"
   },
   "source": [
    "## Q4. Is there a relationship between  egocentric/allocentric empathy and responses on the COVID-19 questions?"
   ]
  },
  {
   "cell_type": "markdown",
   "metadata": {},
   "source": [
    "### Numeric answers: Compute correlation and find questions with p<0.05"
   ]
  },
  {
   "cell_type": "code",
   "execution_count": 109,
   "metadata": {},
   "outputs": [
    {
     "name": "stdout",
     "output_type": "stream",
     "text": [
      "Question 14 siginificantly correlated to EA with r-value -0.08950042037935349 and p-value 0.006198513875190236\n"
     ]
    }
   ],
   "source": [
    "#EA score\n",
    "numeric_covid_answers = [1,2,3,4,6,7,14,15]\n",
    "for num in numeric_covid_answers:\n",
    "    key = 'covid_' + str(num)\n",
    "    data = survey[key]\n",
    "    result = scipy.stats.linregress(ea_score, data)\n",
    "    if result.pvalue < 0.05:\n",
    "        print(\"Question {0} siginificantly correlated to EA with r-value {1} and p-value {2}\".format(num,result.rvalue,result.pvalue))"
   ]
  },
  {
   "cell_type": "markdown",
   "metadata": {},
   "source": [
    "Conclusion: EA score has a significant negative correlation to people's willingness to deliver groceries to a sick friend or family member."
   ]
  },
  {
   "cell_type": "code",
   "execution_count": 111,
   "metadata": {},
   "outputs": [
    {
     "name": "stdout",
     "output_type": "stream",
     "text": [
      "Question 1 siginificantly correlated to Raw E with r-value 0.1004339313132776 and p-value 0.0021187190031464087\n",
      "Question 6 siginificantly correlated to Raw E with r-value 0.0884926985443574 and p-value 0.0068068121977569495\n",
      "Question 14 siginificantly correlated to Raw E with r-value -0.11561066447175643 and p-value 0.0003995644529759834\n"
     ]
    }
   ],
   "source": [
    "#Raw E score\n",
    "numeric_covid_answers = [1,2,3,4,6,7,14,15]\n",
    "for num in numeric_covid_answers:\n",
    "    key = 'covid_' + str(num)\n",
    "    data = survey[key]\n",
    "    result = scipy.stats.linregress(survey['E_score_raw'].to_numpy(), data)\n",
    "    if result.pvalue < 0.05:\n",
    "        print(\"Question {0} siginificantly correlated to Raw E with r-value {1} and p-value {2}\".format(num,result.rvalue,result.pvalue))"
   ]
  },
  {
   "cell_type": "markdown",
   "metadata": {},
   "source": [
    "Conclusion: Raw score has a significant positive correlation to people being worried about COVID and feeling that those arough them are following social distancing. It has a significant negative correlation to people's willingness to deliver groceries to a sick friend or family member."
   ]
  },
  {
   "cell_type": "code",
   "execution_count": 112,
   "metadata": {},
   "outputs": [
    {
     "name": "stdout",
     "output_type": "stream",
     "text": [
      "Question 3 siginificantly correlated to raw A with r-value -0.07832650330542801 and p-value 0.016654749168705317\n",
      "Question 7 siginificantly correlated to raw A with r-value 0.09458373213093185 and p-value 0.003813020958753563\n"
     ]
    }
   ],
   "source": [
    "#Raw A score\n",
    "numeric_covid_answers = [1,2,3,4,6,7,14,15]\n",
    "for num in numeric_covid_answers:\n",
    "    key = 'covid_' + str(num)\n",
    "    data = survey[key]\n",
    "    result = scipy.stats.linregress(survey['A_score_raw'].to_numpy(), data)\n",
    "    if result.pvalue < 0.05:\n",
    "        print(\"Question {0} siginificantly correlated to raw A with r-value {1} and p-value {2}\".format(num,result.rvalue,result.pvalue))"
   ]
  },
  {
   "cell_type": "markdown",
   "metadata": {},
   "source": [
    "Conclusion: A scores have a significant positive correlation to feeling that SD measures are too strict, and significant negative correlation to being more concerned for society than for oneself. This makes no sense.."
   ]
  },
  {
   "cell_type": "code",
   "execution_count": 113,
   "metadata": {},
   "outputs": [
    {
     "name": "stdout",
     "output_type": "stream",
     "text": [
      "Question 1 siginificantly correlated to D-score with r-value -0.23066610246092867 and p-value 9.574100712655349e-13\n",
      "Question 2 siginificantly correlated to D-score with r-value 0.11160176028494684 and p-value 0.0006335738053362432\n",
      "Question 3 siginificantly correlated to D-score with r-value 0.11698004453358406 and p-value 0.00034019825749004453\n"
     ]
    }
   ],
   "source": [
    "numeric_covid_answers = [1,2,3,4,6,7,14,15]\n",
    "for num in numeric_covid_answers:\n",
    "    key = 'covid_' + str(num)\n",
    "    data = survey[key]\n",
    "    result = scipy.stats.linregress(d_score, data)\n",
    "    if result.pvalue < 0.05:\n",
    "        print(\"Question {0} siginificantly correlated to D-score with r-value {1} and p-value {2}\".format(num,result.rvalue,result.pvalue))"
   ]
  },
  {
   "cell_type": "markdown",
   "metadata": {},
   "source": [
    "Conclusion: D-score has a strong negative correlation to people feeling concerned about the COVID pandemic. D-score is correlated to feeling more concerned for family and soceity than oneself during the pandemic."
   ]
  },
  {
   "cell_type": "markdown",
   "metadata": {},
   "source": [
    "### True/False questions: Compute p-values between scores of \"yes\" and \"no\" answers and find questions for which p<0.05"
   ]
  },
  {
   "cell_type": "code",
   "execution_count": 117,
   "metadata": {
    "Collapsed": "false"
   },
   "outputs": [
    {
     "name": "stdout",
     "output_type": "stream",
     "text": [
      "Question 9 p-val 0.003085762607366605\n",
      "Yes mean: -0.07870666267860424\n",
      "No mean: 0.1886097843825457\n",
      "Question 10 p-val 0.00302335482336716\n",
      "Yes mean: -0.07704746947378598\n",
      "No mean: 0.19348763010710118\n",
      "Question 12 p-val 0.005734448849122712\n",
      "Yes mean: -0.0391791995499486\n",
      "No mean: 0.3304508244869397\n"
     ]
    }
   ],
   "source": [
    "#EA score\n",
    "tf_covid_answers = np.array(range(9,14))\n",
    "for num in tf_covid_answers:\n",
    "    key = 'covid_' + str(num)\n",
    "    yes_ea  = survey[survey[key]=='Yes']['EA_score']\n",
    "    no_ea  = survey[survey[key]=='No']['EA_score']\n",
    "    t, pval = scipy.stats.ttest_ind(yes_ea, no_ea)\n",
    "    if pval < 0.05:\n",
    "        print(\"Question {0} p-val {1}\".format(num,pval))\n",
    "        print(\"Yes mean: {0}\".format(np.mean(yes_ea)))\n",
    "        print(\"No mean: {0}\".format(np.mean(no_ea)))"
   ]
  },
  {
   "cell_type": "markdown",
   "metadata": {
    "Collapsed": "false"
   },
   "source": [
    "Conclusion: People who do not wear masks (Q 9-10) and do not wash their hands when coming home (Q 12) have significantly higher EA scores than those who do."
   ]
  },
  {
   "cell_type": "code",
   "execution_count": 118,
   "metadata": {},
   "outputs": [
    {
     "name": "stdout",
     "output_type": "stream",
     "text": [
      "Question 9 p-val 0.0028695408449115473\n",
      "Yes mean: 5.416160849772383\n",
      "No mean: 5.892727272727273\n",
      "Question 10 p-val 6.019792242703555e-05\n",
      "Yes mean: 5.372380239520958\n",
      "No mean: 6.018796992481203\n"
     ]
    }
   ],
   "source": [
    "#E score\n",
    "tf_covid_answers = np.array(range(9,14))\n",
    "for num in tf_covid_answers:\n",
    "    key = 'covid_' + str(num)\n",
    "    yes_ea  = survey[survey[key]=='Yes']['E_score_raw']\n",
    "    no_ea  = survey[survey[key]=='No']['E_score_raw']\n",
    "    t, pval = scipy.stats.ttest_ind(yes_ea, no_ea)\n",
    "    if pval < 0.05:\n",
    "        print(\"Question {0} p-val {1}\".format(num,pval))\n",
    "        print(\"Yes mean: {0}\".format(np.mean(yes_ea)))\n",
    "        print(\"No mean: {0}\".format(np.mean(no_ea)))"
   ]
  },
  {
   "cell_type": "markdown",
   "metadata": {},
   "source": [
    "Conclusion: People who do not wear masks have significantly higher E scores"
   ]
  },
  {
   "cell_type": "code",
   "execution_count": 129,
   "metadata": {},
   "outputs": [
    {
     "name": "stdout",
     "output_type": "stream",
     "text": [
      "Yes mean: 0.22205967543736968\n",
      "No mean: 0.2540307950818737\n",
      "0.8903112079729545\n"
     ]
    }
   ],
   "source": [
    "# Wear mask to:            Protect yourself         Protect others\n",
    "yes_ea  = survey[(survey['covid_9']=='No') & (survey['covid_10']=='Yes')]['EA_score']\n",
    "no_ea  = survey[(survey['covid_9']=='Yes') & (survey['covid_10']=='No')]['EA_score']\n",
    "t, pval = scipy.stats.ttest_ind(yes_ea, no_ea)\n",
    "print(\"Yes mean: {0}\".format(np.mean(yes_ea)))\n",
    "print(\"No mean: {0}\".format(np.mean(no_ea)))\n",
    "print(pval)"
   ]
  },
  {
   "cell_type": "markdown",
   "metadata": {},
   "source": [
    "Conclusion: No significant difference between EA scores of people who wear masks to protect others and not themselves vs people who wear masks to protect themselves but not others."
   ]
  },
  {
   "cell_type": "code",
   "execution_count": 142,
   "metadata": {},
   "outputs": [
    {
     "name": "stdout",
     "output_type": "stream",
     "text": [
      "Yes mean: -0.07744570777312447\n",
      "No mean: 0.0190876286811105\n",
      "0.2791021503238132\n"
     ]
    }
   ],
   "source": [
    "# Wash hands:             Leaving home             Coming home\n",
    "yes_ea  = survey[(survey['covid_11']=='Yes') & (survey['covid_12']=='Yes')]['EA_score']\n",
    "no_ea  = survey[(survey['covid_11']=='No') & (survey['covid_12']=='Yes')]['EA_score']\n",
    "t, pval = scipy.stats.ttest_ind(yes_ea, no_ea)\n",
    "print(\"Yes mean: {0}\".format(np.mean(yes_ea)))\n",
    "print(\"No mean: {0}\".format(np.mean(no_ea)))\n",
    "print(pval)"
   ]
  },
  {
   "cell_type": "markdown",
   "metadata": {},
   "source": [
    "No significant difference in EA scores of people who always wash their hands and those who only wash their hands when coming home."
   ]
  },
  {
   "cell_type": "markdown",
   "metadata": {},
   "source": [
    "## Covid question and age correlation"
   ]
  },
  {
   "cell_type": "code",
   "execution_count": 143,
   "metadata": {
    "Collapsed": "false"
   },
   "outputs": [
    {
     "name": "stdout",
     "output_type": "stream",
     "text": [
      "Question 1 siginificantly correlated to age with r-value 0.11187871757475278 and p-value 0.0006140034273622205\n",
      "Question 4 siginificantly correlated to age with r-value -0.1296178252509365 and p-value 7.104176240232286e-05\n",
      "Question 7 siginificantly correlated to age with r-value -0.258922825661193 and p-value 8.987621734305648e-16\n",
      "Question 14 siginificantly correlated to age with r-value 0.14203005631779034 and p-value 1.3189836339628401e-05\n",
      "Question 15 siginificantly correlated to age with r-value 0.16376071975598525 and p-value 4.852255397522782e-07\n"
     ]
    }
   ],
   "source": [
    "numeric_covid_answers = [1,2,3,4,6,7,14,15]\n",
    "for num in numeric_covid_answers:\n",
    "    key = 'covid_' + str(num)\n",
    "    data = survey[key]\n",
    "    result = scipy.stats.linregress(ages, data)\n",
    "    if result.pvalue < 0.05:\n",
    "        print(\"Question {0} siginificantly correlated to age with r-value {1} and p-value {2}\".format(num,result.rvalue,result.pvalue))"
   ]
  },
  {
   "cell_type": "markdown",
   "metadata": {
    "Collapsed": "false"
   },
   "source": [
    "Conclusion: Age is positively correlated to cencern for COVID and willingness to deliver groceries to a sick person. It is negatively correlated to respecting social distancing and thinking regulations are too strict."
   ]
  },
  {
   "cell_type": "markdown",
   "metadata": {},
   "source": [
    "## Try ML Stuff"
   ]
  },
  {
   "cell_type": "code",
   "execution_count": 407,
   "metadata": {},
   "outputs": [],
   "source": [
    "from sklearn.model_selection import train_test_split\n",
    "from sklearn.linear_model import LogisticRegression"
   ]
  },
  {
   "cell_type": "code",
   "execution_count": 482,
   "metadata": {},
   "outputs": [
    {
     "data": {
      "text/plain": [
       "718"
      ]
     },
     "execution_count": 482,
     "metadata": {},
     "output_type": "execute_result"
    }
   ],
   "source": [
    "data_matrix = survey[['gender','age','language','D_score','EA_score']]\n",
    "labels = (survey['covid_9']=='Yes') | (survey['covid_10']=='Yes') #Whether or not people wear masks\n",
    "#labels = (survey['covid_11']=='Yes') & (survey['covid_12']=='Yes') #Whether or not people wash hands\n",
    "#labels = (survey['covid_9']=='Yes')\n",
    "#labels = (survey['covid_15']>2) & (survey['covid_14']>2) #delivering groceries to sick person\n",
    "sum(labels==1)"
   ]
  },
  {
   "cell_type": "code",
   "execution_count": 483,
   "metadata": {},
   "outputs": [
    {
     "name": "stderr",
     "output_type": "stream",
     "text": [
      "\n",
      "A value is trying to be set on a copy of a slice from a DataFrame.\n",
      "Try using .loc[row_indexer,col_indexer] = value instead\n",
      "\n",
      "See the caveats in the documentation: https://pandas.pydata.org/pandas-docs/stable/user_guide/indexing.html#returning-a-view-versus-a-copy\n"
     ]
    }
   ],
   "source": [
    "from sklearn.preprocessing import StandardScaler\n",
    "scaler = StandardScaler()\n",
    "data_matrix.loc[data_matrix['language']=='English', 'language'] = 0\n",
    "data_matrix.loc[data_matrix['language']=='French', 'language'] = 1\n",
    "data_matrix.loc[data_matrix['language']=='Turkish', 'language'] = 2\n",
    "data_matrix.loc[data_matrix['language']=='Chinese', 'language'] = 3\n",
    "data_matrix.loc[data_matrix['gender']=='M', 'gender'] = 0\n",
    "data_matrix.loc[data_matrix['gender']=='F', 'gender'] = 1\n",
    "data_matrix.loc[data_matrix['gender']=='O', 'gender'] = 2\n",
    "data_matrix = scaler.fit_transform(data_matrix.to_numpy())"
   ]
  },
  {
   "cell_type": "code",
   "execution_count": 484,
   "metadata": {},
   "outputs": [],
   "source": [
    "X = data_matrix\n",
    "y = labels.to_numpy()"
   ]
  },
  {
   "cell_type": "code",
   "execution_count": 485,
   "metadata": {},
   "outputs": [],
   "source": [
    "X_train, X_test, y_train, y_test = train_test_split(X, y, test_size=0.33, random_state=0, stratify=y)\n",
    "clf = LogisticRegression(random_state=0).fit(X_train, y_train)"
   ]
  },
  {
   "cell_type": "code",
   "execution_count": 486,
   "metadata": {},
   "outputs": [
    {
     "data": {
      "text/plain": [
       "0.7993527508090615"
      ]
     },
     "execution_count": 486,
     "metadata": {},
     "output_type": "execute_result"
    }
   ],
   "source": [
    "clf.score(X_test, y_test)"
   ]
  },
  {
   "cell_type": "code",
   "execution_count": 487,
   "metadata": {},
   "outputs": [
    {
     "data": {
      "image/png": "[encoded data removed]",
      "text/plain": [
       "<Figure size 432x288 with 2 Axes>"
      ]
     },
     "metadata": {
      "needs_background": "light"
     },
     "output_type": "display_data"
    }
   ],
   "source": [
    "from sklearn.metrics import confusion_matrix, plot_confusion_matrix\n",
    "plot_confusion_matrix(clf, X_test, y_test)\n",
    "plt.show() "
   ]
  },
  {
   "cell_type": "code",
   "execution_count": 488,
   "metadata": {},
   "outputs": [
    {
     "name": "stdout",
     "output_type": "stream",
     "text": [
      "AUC Score: 0.8771452242868978\n"
     ]
    },
    {
     "data": {
      "text/plain": [
       "Text(0, 0.5, 'True Positive Rate')"
      ]
     },
     "execution_count": 488,
     "metadata": {},
     "output_type": "execute_result"
    },
    {
     "data": {
      "image/png": "[encoded data removed]",
      "text/plain": [
       "<Figure size 432x288 with 1 Axes>"
      ]
     },
     "metadata": {
      "needs_background": "light"
     },
     "output_type": "display_data"
    }
   ],
   "source": [
    "from sklearn.metrics import roc_auc_score, roc_curve\n",
    "y_scores = clf.decision_function(X_test)\n",
    "print(\"AUC Score: {0}\".format(roc_auc_score(y_test, y_scores)))\n",
    "fpr, tpr, thr = roc_curve(y_test, y_scores)\n",
    "plt.figure()\n",
    "plt.plot([0, 1], [0, 1], linestyle='--')\n",
    "plt.plot(fpr, tpr)\n",
    "plt.title('ROC Curve')\n",
    "plt.xlabel('False Positive Rate')\n",
    "plt.ylabel('True Positive Rate')"
   ]
  },
  {
   "cell_type": "code",
   "execution_count": 489,
   "metadata": {},
   "outputs": [
    {
     "data": {
      "image/png": "[encoded data removed]",
      "text/plain": [
       "<Figure size 576x252 with 1 Axes>"
      ]
     },
     "metadata": {
      "needs_background": "light"
     },
     "output_type": "display_data"
    }
   ],
   "source": [
    "import shap\n",
    "feature_names = ['gender','age','language','D_score','EA_score']\n",
    "shap_values = shap.LinearExplainer(clf, X_train).shap_values(X_train)\n",
    "shap.summary_plot(shap_values, X_train, plot_type=\"bar\", feature_names=feature_names)"
   ]
  },
  {
   "cell_type": "markdown",
   "metadata": {},
   "source": [
    "Conclusion: We can use ML to predict whether or not people wear masks (AUC=87.7), but people's age and language are much more important factors than empathy metrics like EA score or D-score"
   ]
  }
 ],
 "metadata": {
  "kernelspec": {
   "display_name": "Python 3",
   "language": "python",
   "name": "python3"
  },
  "language_info": {
   "codemirror_mode": {
    "name": "ipython",
    "version": 3
   },
   "file_extension": ".py",
   "mimetype": "text/x-python",
   "name": "python",
   "nbconvert_exporter": "python",
   "pygments_lexer": "ipython3",
   "version": "3.7.3"
  }
 },
 "nbformat": 4,
 "nbformat_minor": 4
}
