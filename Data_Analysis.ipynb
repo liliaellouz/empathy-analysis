{
 "cells": [
  {
   "cell_type": "code",
   "execution_count": 1,
   "metadata": {},
   "outputs": [],
   "source": [
    "import os\n",
    "import matplotlib.pyplot as plt\n",
    "import numpy as np\n",
    "import pandas as pd"
   ]
  },
  {
   "cell_type": "markdown",
   "metadata": {},
   "source": [
    "## Load Data"
   ]
  },
  {
   "cell_type": "code",
   "execution_count": 3,
   "metadata": {},
   "outputs": [
    {
     "data": {
      "text/html": [
       "<div>\n",
       "<style scoped>\n",
       "    .dataframe tbody tr th:only-of-type {\n",
       "        vertical-align: middle;\n",
       "    }\n",
       "\n",
       "    .dataframe tbody tr th {\n",
       "        vertical-align: top;\n",
       "    }\n",
       "\n",
       "    .dataframe thead th {\n",
       "        text-align: right;\n",
       "    }\n",
       "</style>\n",
       "<table border=\"1\" class=\"dataframe\">\n",
       "  <thead>\n",
       "    <tr style=\"text-align: right;\">\n",
       "      <th></th>\n",
       "      <th>Unnamed: 0</th>\n",
       "      <th>timestamp</th>\n",
       "      <th>gender</th>\n",
       "      <th>age</th>\n",
       "      <th>language</th>\n",
       "      <th>EQ_score</th>\n",
       "      <th>SQ_score</th>\n",
       "      <th>D_score</th>\n",
       "      <th>Allocentric_score</th>\n",
       "      <th>Egocentric_score</th>\n",
       "      <th>...</th>\n",
       "      <th>covid_6</th>\n",
       "      <th>covid_7</th>\n",
       "      <th>covid_8</th>\n",
       "      <th>covid_9</th>\n",
       "      <th>covid_10</th>\n",
       "      <th>covid_11</th>\n",
       "      <th>covid_12</th>\n",
       "      <th>covid_13</th>\n",
       "      <th>covid_14</th>\n",
       "      <th>covid_15</th>\n",
       "    </tr>\n",
       "  </thead>\n",
       "  <tbody>\n",
       "    <tr>\n",
       "      <th>0</th>\n",
       "      <td>0</td>\n",
       "      <td>2020/05/03 6:49:52 am GMT+8</td>\n",
       "      <td>M</td>\n",
       "      <td>23</td>\n",
       "      <td>English</td>\n",
       "      <td>7.0</td>\n",
       "      <td>4.0</td>\n",
       "      <td>1.735536</td>\n",
       "      <td>4.00</td>\n",
       "      <td>4.75</td>\n",
       "      <td>...</td>\n",
       "      <td>2.0</td>\n",
       "      <td>5.0</td>\n",
       "      <td>Yes</td>\n",
       "      <td>Yes</td>\n",
       "      <td>Yes</td>\n",
       "      <td>No</td>\n",
       "      <td>Yes</td>\n",
       "      <td>No</td>\n",
       "      <td>2.0</td>\n",
       "      <td>3.0</td>\n",
       "    </tr>\n",
       "    <tr>\n",
       "      <th>1</th>\n",
       "      <td>1</td>\n",
       "      <td>2020/05/03 6:53:20 am GMT+8</td>\n",
       "      <td>M</td>\n",
       "      <td>22</td>\n",
       "      <td>English</td>\n",
       "      <td>5.0</td>\n",
       "      <td>4.0</td>\n",
       "      <td>1.087399</td>\n",
       "      <td>1.00</td>\n",
       "      <td>3.75</td>\n",
       "      <td>...</td>\n",
       "      <td>1.0</td>\n",
       "      <td>4.0</td>\n",
       "      <td>Yes</td>\n",
       "      <td>Yes</td>\n",
       "      <td>Yes</td>\n",
       "      <td>No</td>\n",
       "      <td>Yes</td>\n",
       "      <td>Yes</td>\n",
       "      <td>2.0</td>\n",
       "      <td>3.0</td>\n",
       "    </tr>\n",
       "    <tr>\n",
       "      <th>2</th>\n",
       "      <td>2</td>\n",
       "      <td>2020/05/03 3:53:12 pm GMT+8</td>\n",
       "      <td>F</td>\n",
       "      <td>22</td>\n",
       "      <td>English</td>\n",
       "      <td>7.0</td>\n",
       "      <td>9.0</td>\n",
       "      <td>0.115194</td>\n",
       "      <td>0.75</td>\n",
       "      <td>7.75</td>\n",
       "      <td>...</td>\n",
       "      <td>2.0</td>\n",
       "      <td>5.0</td>\n",
       "      <td>Yes</td>\n",
       "      <td>Yes</td>\n",
       "      <td>Yes</td>\n",
       "      <td>No</td>\n",
       "      <td>Yes</td>\n",
       "      <td>No</td>\n",
       "      <td>1.0</td>\n",
       "      <td>1.0</td>\n",
       "    </tr>\n",
       "    <tr>\n",
       "      <th>3</th>\n",
       "      <td>3</td>\n",
       "      <td>2020/05/03 7:35:55 pm GMT+8</td>\n",
       "      <td>M</td>\n",
       "      <td>28</td>\n",
       "      <td>English</td>\n",
       "      <td>4.0</td>\n",
       "      <td>8.0</td>\n",
       "      <td>-0.532944</td>\n",
       "      <td>3.75</td>\n",
       "      <td>4.50</td>\n",
       "      <td>...</td>\n",
       "      <td>1.0</td>\n",
       "      <td>5.0</td>\n",
       "      <td>Yes</td>\n",
       "      <td>Yes</td>\n",
       "      <td>Yes</td>\n",
       "      <td>Yes</td>\n",
       "      <td>Yes</td>\n",
       "      <td>No</td>\n",
       "      <td>2.0</td>\n",
       "      <td>3.0</td>\n",
       "    </tr>\n",
       "    <tr>\n",
       "      <th>4</th>\n",
       "      <td>4</td>\n",
       "      <td>2020/05/03 8:38:20 pm GMT+8</td>\n",
       "      <td>M</td>\n",
       "      <td>32</td>\n",
       "      <td>English</td>\n",
       "      <td>5.0</td>\n",
       "      <td>13.0</td>\n",
       "      <td>-1.829218</td>\n",
       "      <td>5.00</td>\n",
       "      <td>5.75</td>\n",
       "      <td>...</td>\n",
       "      <td>1.0</td>\n",
       "      <td>5.0</td>\n",
       "      <td>No</td>\n",
       "      <td>No</td>\n",
       "      <td>No</td>\n",
       "      <td>No</td>\n",
       "      <td>Yes</td>\n",
       "      <td>No</td>\n",
       "      <td>1.0</td>\n",
       "      <td>3.0</td>\n",
       "    </tr>\n",
       "  </tbody>\n",
       "</table>\n",
       "<p>5 rows × 26 columns</p>\n",
       "</div>"
      ],
      "text/plain": [
       "   Unnamed: 0                    timestamp gender  age language  EQ_score  \\\n",
       "0           0  2020/05/03 6:49:52 am GMT+8      M   23  English       7.0   \n",
       "1           1  2020/05/03 6:53:20 am GMT+8      M   22  English       5.0   \n",
       "2           2  2020/05/03 3:53:12 pm GMT+8      F   22  English       7.0   \n",
       "3           3  2020/05/03 7:35:55 pm GMT+8      M   28  English       4.0   \n",
       "4           4  2020/05/03 8:38:20 pm GMT+8      M   32  English       5.0   \n",
       "\n",
       "   SQ_score   D_score  Allocentric_score  Egocentric_score  ...  covid_6  \\\n",
       "0       4.0  1.735536               4.00              4.75  ...      2.0   \n",
       "1       4.0  1.087399               1.00              3.75  ...      1.0   \n",
       "2       9.0  0.115194               0.75              7.75  ...      2.0   \n",
       "3       8.0 -0.532944               3.75              4.50  ...      1.0   \n",
       "4      13.0 -1.829218               5.00              5.75  ...      1.0   \n",
       "\n",
       "   covid_7  covid_8  covid_9  covid_10 covid_11  covid_12  covid_13 covid_14  \\\n",
       "0      5.0      Yes      Yes       Yes       No       Yes        No      2.0   \n",
       "1      4.0      Yes      Yes       Yes       No       Yes       Yes      2.0   \n",
       "2      5.0      Yes      Yes       Yes       No       Yes        No      1.0   \n",
       "3      5.0      Yes      Yes       Yes      Yes       Yes        No      2.0   \n",
       "4      5.0       No       No        No       No       Yes        No      1.0   \n",
       "\n",
       "  covid_15  \n",
       "0      3.0  \n",
       "1      3.0  \n",
       "2      1.0  \n",
       "3      3.0  \n",
       "4      3.0  \n",
       "\n",
       "[5 rows x 26 columns]"
      ]
     },
     "execution_count": 3,
     "metadata": {},
     "output_type": "execute_result"
    }
   ],
   "source": [
    "# load the original data\n",
    "survey = pd.read_csv('data/preprocessed.csv')\n",
    "survey.head()"
   ]
  },
  {
   "cell_type": "markdown",
   "metadata": {},
   "source": [
    "## Check difference in EA scores between genders and nationalities"
   ]
  },
  {
   "cell_type": "code",
   "execution_count": 19,
   "metadata": {},
   "outputs": [
    {
     "data": {
      "text/plain": [
       "(array([  3.,   6.,  17.,  31., 113., 157., 113.,  71.,  23.,   8.]),\n",
       " array([-3.86021693, -3.18046109, -2.50070526, -1.82094942, -1.14119358,\n",
       "        -0.46143775,  0.21831809,  0.89807392,  1.57782976,  2.2575856 ,\n",
       "         2.93734143]),\n",
       " <a list of 10 Patch objects>)"
      ]
     },
     "execution_count": 19,
     "metadata": {},
     "output_type": "execute_result"
    },
    {
     "data": {
      "image/png": "[encoded data removed]",
      "text/plain": [
       "<Figure size 432x288 with 1 Axes>"
      ]
     },
     "metadata": {
      "needs_background": "light"
     },
     "output_type": "display_data"
    },
    {
     "data": {
      "image/png": "[encoded data removed]",
      "text/plain": [
       "<Figure size 432x288 with 1 Axes>"
      ]
     },
     "metadata": {
      "needs_background": "light"
     },
     "output_type": "display_data"
    }
   ],
   "source": [
    "men_ea  = survey[survey['gender']=='M']['EA_score']\n",
    "women_ea  = survey[survey['gender']=='F']['EA_score']\n",
    "plt.hist(men_ea,color='blue')\n",
    "plt.figure()\n",
    "plt.hist(women_ea,color='pink')"
   ]
  },
  {
   "cell_type": "code",
   "execution_count": 20,
   "metadata": {},
   "outputs": [
    {
     "name": "stdout",
     "output_type": "stream",
     "text": [
      "0.7994560875143333\n"
     ]
    }
   ],
   "source": [
    "t, pval = scipy.stats.ttest_ind(men_ea, women_ea)\n",
    "print(pval)"
   ]
  },
  {
   "cell_type": "markdown",
   "metadata": {},
   "source": [
    "Conclusion: No significant difference between EA score of men and women"
   ]
  },
  {
   "cell_type": "code",
   "execution_count": 26,
   "metadata": {},
   "outputs": [],
   "source": [
    "en_ea  = survey[survey['language']=='English']['EA_score']\n",
    "fr_ea  = survey[survey['language']=='French']['EA_score']\n",
    "tu_ea  = survey[survey['language']=='Turkish']['EA_score']\n",
    "ch_ea  = survey[survey['language']=='Chinese']['EA_score']"
   ]
  },
  {
   "cell_type": "code",
   "execution_count": 32,
   "metadata": {},
   "outputs": [
    {
     "data": {
      "text/plain": [
       "Text(0.5, 1.0, 'Chinese')"
      ]
     },
     "execution_count": 32,
     "metadata": {},
     "output_type": "execute_result"
    },
    {
     "data": {
      "image/png": "[encoded data removed]",
      "text/plain": [
       "<Figure size 1080x360 with 4 Axes>"
      ]
     },
     "metadata": {
      "needs_background": "light"
     },
     "output_type": "display_data"
    }
   ],
   "source": [
    "fig, axs = plt.subplots(1,4, figsize=(15,5))\n",
    "axs[0].hist(en_ea)\n",
    "axs[0].set_title('English')\n",
    "axs[1].hist(fr_ea)\n",
    "axs[1].set_title('French')\n",
    "axs[2].hist(tu_ea)\n",
    "axs[2].set_title('Turkish')\n",
    "axs[3].hist(ch_ea)\n",
    "axs[3].set_title('Chinese')"
   ]
  },
  {
   "cell_type": "code",
   "execution_count": 40,
   "metadata": {},
   "outputs": [
    {
     "name": "stdout",
     "output_type": "stream",
     "text": [
      "English mean: 0.09694855152891224\n",
      "French mean: 0.12219100076779578\n",
      "Turkish mean: -0.33294133398720394\n",
      "Chinese mean: 0.17146990876735405\n"
     ]
    }
   ],
   "source": [
    "print(\"English mean: {0}\".format(np.mean(en_ea)))\n",
    "print(\"French mean: {0}\".format(np.mean(fr_ea)))\n",
    "print(\"Turkish mean: {0}\".format(np.mean(tu_ea)))\n",
    "print(\"Chinese mean: {0}\".format(np.mean(ch_ea)))"
   ]
  },
  {
   "cell_type": "code",
   "execution_count": 39,
   "metadata": {},
   "outputs": [
    {
     "name": "stdout",
     "output_type": "stream",
     "text": [
      "7.180851947185227e-05\n"
     ]
    }
   ],
   "source": [
    "t, pval = scipy.stats.ttest_ind(en_ea, tu_ea)\n",
    "print(pval)"
   ]
  },
  {
   "cell_type": "markdown",
   "metadata": {},
   "source": [
    "Conclusion: There is a significant difference in the EA scores of English and Turkish speakers, with Turkish people being more allocentric than egocentric"
   ]
  },
  {
   "cell_type": "code",
   "execution_count": 44,
   "metadata": {},
   "outputs": [
    {
     "name": "stdout",
     "output_type": "stream",
     "text": [
      "1.1563443785686067e-07\n",
      "9.440739366223328e-08\n"
     ]
    }
   ],
   "source": [
    "t, pval = scipy.stats.ttest_ind(fr_ea, tu_ea)\n",
    "print(pval)\n",
    "t, pval = scipy.stats.ttest_ind(ch_ea, tu_ea)\n",
    "print(pval)"
   ]
  },
  {
   "cell_type": "markdown",
   "metadata": {},
   "source": [
    "Conclusion: Turkish people are significantly more allocentric than French and Chinese people"
   ]
  },
  {
   "cell_type": "code",
   "execution_count": 54,
   "metadata": {},
   "outputs": [
    {
     "name": "stdout",
     "output_type": "stream",
     "text": [
      "Old mean: -0.07056763214137222\n",
      "Young mean: 0.09058192389784962\n",
      "0.014470422683299988\n"
     ]
    }
   ],
   "source": [
    "oldness_cutoff = 35\n",
    "young_ea  = survey[survey['age']<oldness_cutoff]['EA_score']\n",
    "old_ea  = survey[survey['age']>=oldness_cutoff]['EA_score']\n",
    "print(\"Old mean: {0}\".format(np.mean(old_ea)))\n",
    "print(\"Young mean: {0}\".format(np.mean(young_ea)))\n",
    "t, pval = scipy.stats.ttest_ind(young_ea, old_ea)\n",
    "print(pval)"
   ]
  },
  {
   "cell_type": "markdown",
   "metadata": {},
   "source": [
    "## Check correlation between EQ/SQ and EA Score \n",
    "EA Score = Egocentric score - allocentric score"
   ]
  },
  {
   "cell_type": "code",
   "execution_count": 11,
   "metadata": {},
   "outputs": [
    {
     "name": "stdout",
     "output_type": "stream",
     "text": [
      "(934,)\n",
      "(934,)\n"
     ]
    },
    {
     "data": {
      "text/plain": [
       "Text(0, 0.5, 'EA Score')"
      ]
     },
     "execution_count": 11,
     "metadata": {},
     "output_type": "execute_result"
    },
    {
     "data": {
      "image/png": "[encoded data removed]",
      "text/plain": [
       "<Figure size 432x288 with 1 Axes>"
      ]
     },
     "metadata": {
      "needs_background": "light"
     },
     "output_type": "display_data"
    }
   ],
   "source": [
    "d_score = survey['D_score'].to_numpy()\n",
    "print(d_score.shape)\n",
    "ea_score = survey['EA_score'].to_numpy()\n",
    "print(ea_score.shape)\n",
    "plt.figure()\n",
    "plt.scatter(d_score,ea_score)\n",
    "plt.xlabel(\"D-Score\")\n",
    "plt.ylabel(\"EA Score\")"
   ]
  },
  {
   "cell_type": "code",
   "execution_count": 13,
   "metadata": {},
   "outputs": [
    {
     "name": "stdout",
     "output_type": "stream",
     "text": [
      "0.0049477399725871085\n",
      "0.879969122475224\n"
     ]
    }
   ],
   "source": [
    "from scipy import stats\n",
    "result = scipy.stats.linregress(d_score, ea_score)\n",
    "print(result.rvalue)\n",
    "print(result.pvalue)"
   ]
  },
  {
   "cell_type": "markdown",
   "metadata": {},
   "source": [
    "Conclusion: No correlation between D-score and EA score"
   ]
  },
  {
   "cell_type": "markdown",
   "metadata": {},
   "source": [
    "## Check correlation between age and EA score / D-score"
   ]
  },
  {
   "cell_type": "code",
   "execution_count": 55,
   "metadata": {},
   "outputs": [
    {
     "data": {
      "text/plain": [
       "Text(0, 0.5, 'EA Score')"
      ]
     },
     "execution_count": 55,
     "metadata": {},
     "output_type": "execute_result"
    },
    {
     "data": {
      "image/png": "[encoded data removed]",
      "text/plain": [
       "<Figure size 432x288 with 1 Axes>"
      ]
     },
     "metadata": {
      "needs_background": "light"
     },
     "output_type": "display_data"
    }
   ],
   "source": [
    "ages = survey['age'].to_numpy()\n",
    "plt.figure()\n",
    "plt.scatter(ages,ea_score)\n",
    "plt.xlabel(\"Age\")\n",
    "plt.ylabel(\"EA Score\")"
   ]
  },
  {
   "cell_type": "code",
   "execution_count": 56,
   "metadata": {},
   "outputs": [
    {
     "name": "stdout",
     "output_type": "stream",
     "text": [
      "-0.06259733744035144\n",
      "0.05582786592047141\n"
     ]
    }
   ],
   "source": [
    "result = scipy.stats.linregress(ages, ea_score)\n",
    "print(result.rvalue)\n",
    "print(result.pvalue)"
   ]
  },
  {
   "cell_type": "markdown",
   "metadata": {},
   "source": [
    "Conclusion: Barely a siginificant negative correlation between age and EA score"
   ]
  },
  {
   "cell_type": "code",
   "execution_count": 58,
   "metadata": {},
   "outputs": [
    {
     "data": {
      "text/plain": [
       "Text(0, 0.5, 'D-Score')"
      ]
     },
     "execution_count": 58,
     "metadata": {},
     "output_type": "execute_result"
    },
    {
     "data": {
      "image/png": "[encoded data removed]",
      "text/plain": [
       "<Figure size 432x288 with 1 Axes>"
      ]
     },
     "metadata": {
      "needs_background": "light"
     },
     "output_type": "display_data"
    }
   ],
   "source": [
    "plt.figure()\n",
    "plt.scatter(ages,d_score)\n",
    "plt.xlabel(\"Age\")\n",
    "plt.ylabel(\"D-Score\")"
   ]
  },
  {
   "cell_type": "code",
   "execution_count": 61,
   "metadata": {},
   "outputs": [
    {
     "name": "stdout",
     "output_type": "stream",
     "text": [
      "0.09567241405688871\n",
      "0.0034259635367374923\n"
     ]
    }
   ],
   "source": [
    "result = scipy.stats.linregress(ages, d_score)\n",
    "print(result.rvalue)\n",
    "print(result.pvalue)"
   ]
  },
  {
   "cell_type": "markdown",
   "metadata": {},
   "source": [
    "Conclusion: Significant positive correlation between age and D-score"
   ]
  },
  {
   "cell_type": "markdown",
   "metadata": {},
   "source": [
    "## Correlation between EA Score and COVID questions"
   ]
  },
  {
   "cell_type": "code",
   "execution_count": 63,
   "metadata": {},
   "outputs": [
    {
     "name": "stdout",
     "output_type": "stream",
     "text": [
      "Question 1 siginificantly correlated to EA with r-value 0.11187871757475278 and p-value 0.0006140034273622205\n",
      "Question 4 siginificantly correlated to EA with r-value -0.1296178252509365 and p-value 7.104176240232286e-05\n",
      "Question 7 siginificantly correlated to EA with r-value -0.258922825661193 and p-value 8.987621734305648e-16\n",
      "Question 14 siginificantly correlated to EA with r-value 0.14203005631779034 and p-value 1.3189836339628401e-05\n",
      "Question 15 siginificantly correlated to EA with r-value 0.16376071975598525 and p-value 4.852255397522782e-07\n"
     ]
    }
   ],
   "source": [
    "numeric_covid_answers = [1,2,3,4,6,7,14,15]\n",
    "for num in numeric_covid_answers:\n",
    "    key = 'covid_' + str(num)\n",
    "    data = survey[key]\n",
    "    result = scipy.stats.linregress(ages, data)\n",
    "    if result.pvalue < 0.05:\n",
    "        print(\"Question {0} siginificantly correlated to EA with r-value {1} and p-value {2}\".format(num,result.rvalue,result.pvalue))"
   ]
  },
  {
   "cell_type": "markdown",
   "metadata": {},
   "source": [
    "Conclusion: People with a higher EA score (i.e. more egocentric) are significantly less concerned about COVID, more likely to comply with social distancing, think that their country's SD guidelines are too strict, and are not willing to deliver groceries to a sick family member or stranger"
   ]
  },
  {
   "cell_type": "code",
   "execution_count": 66,
   "metadata": {},
   "outputs": [
    {
     "name": "stdout",
     "output_type": "stream",
     "text": [
      "Question 8 p-val 7.180851947185227e-05\n",
      "Yes mean: -0.10211341639178817\n",
      "No mean: 0.11663413156676736\n",
      "Question 9 p-val 7.180851947185227e-05\n",
      "Yes mean: -0.06216843549520156\n",
      "No mean: 0.14897817815031958\n",
      "Question 10 p-val 7.180851947185227e-05\n",
      "Yes mean: -0.060609640472299185\n",
      "No mean: 0.15220766855449597\n",
      "Question 11 p-val 7.180851947185227e-05\n",
      "Yes mean: -0.053965061352768885\n",
      "No mean: 0.06491080492903821\n",
      "Question 12 p-val 7.180851947185227e-05\n",
      "Yes mean: -0.031086066749322655\n",
      "No mean: 0.2621905629867121\n",
      "Question 13 p-val 7.180851947185227e-05\n",
      "Yes mean: 0.0256111949842414\n",
      "No mean: -0.008561456609017767\n"
     ]
    }
   ],
   "source": [
    "tf_covid_answers = np.array(range(8,14))\n",
    "for num in tf_covid_answers:\n",
    "    key = 'covid_' + str(num)\n",
    "    yes_ea  = survey[survey[key]=='Yes']['EA_score']\n",
    "    no_ea  = survey[survey[key]=='No']['EA_score']\n",
    "    t, pval = scipy.stats.ttest_ind(en_ea, tu_ea)\n",
    "    if pval<0.05:\n",
    "        print(\"Question {0} p-val {1}\".format(num,pval))\n",
    "        print(\"Yes mean: {0}\".format(np.mean(yes_ea)))\n",
    "        print(\"No mean: {0}\".format(np.mean(no_ea)))"
   ]
  },
  {
   "cell_type": "markdown",
   "metadata": {},
   "source": [
    "Conclusion: People who do not wear masks (Q 9-10) and do not wash their hands (Q 11-12) have significantly higher EA scores than those who do. People who would go grocery shopping with a cough (Q13) have higher EA scores."
   ]
  }
 ],
 "metadata": {
  "kernelspec": {
   "display_name": "Python 3",
   "language": "python",
   "name": "python3"
  },
  "language_info": {
   "codemirror_mode": {
    "name": "ipython",
    "version": 3
   },
   "file_extension": ".py",
   "mimetype": "text/x-python",
   "name": "python",
   "nbconvert_exporter": "python",
   "pygments_lexer": "ipython3",
   "version": "3.7.3"
  }
 },
 "nbformat": 4,
 "nbformat_minor": 2
}
